{
 "cells": [
  {
   "cell_type": "markdown",
   "metadata": {},
   "source": [
    "# Fairness in Modelling\n",
    "\n",
    "Fairness is defined to be, “the quality of treating people equally or in a way that is right or reasonable”, in the Cambridge English Dictionary. In the context of Fairness in classification tasks, this means that any decision or outcome predicted from a modelling tool must prevent discrimination against protected population subgroups. To begin to do this, it is first of all important to examine the input data, extract binary protected groups and view it under the lenses of Bias Detection. Once, we are ready to model, we must build the baseline model and consider additional techniques that instill fairness into the algortihm.\n",
    "\n",
    "## Initial Data Bias Detection\n",
    "\n",
    "First, define the favourable and unfavourable outcome of their modelling problem and select the protected classes present in their dataset. A protected group or class $\\mathbf{S}$ is a category by which people are qualified for special protection by a law, policy, or similar authority. Then identify the **Advantegous or Privileged subset** $\\mathbf{S}_{a}$ and the **Disadvantegous or Unprivileged subset** $\\mathbf{S}_{d}$ within each protected group. In this context, $S_a$, the advantageous group of a protected attribute (S) that is typically shown to have a higher probability of getting a favourable outcome while $S_d$, the disadvantageous group shows a lower probability of having a favourable outcome. In order to choose the appropriate advantageous and disadvantageous subsets it is useful to plot heatmaps of the frequency of each of the protected groups by target label.\n",
    "\n",
    "<p class='lead'> Key Definitions: </p>\n",
    "\n",
    "- **Protected group** is a feature $\\mathbf{S}$ that belongs to our input features $\\mathbf{X}$\n",
    "- **Advantageous group / Privileged** is a level $\\mathbf{S}_{a}$ of the feature $\\mathbf{S}$ having a higher probability of favourable outcome.\n",
    "- **Disadvantageous group / Unprivileged** is a level $\\mathbf{S}_{d}$ of the feature  $\\mathbf{S}$ having lower probability of favourable outcome.\n",
    "- **Actual labels / target** is a categorical variable represented by $\\mathbf{Y}$ \n",
    "- **Predicted labels** are represented $\\hat{Y}$\n",
    "- *For the mathematical equations the **favourable outcome** is defined to be $\\hat{Y} = 1$.*"
   ]
  },
  {
   "cell_type": "markdown",
   "metadata": {},
   "source": [
    "## Causal Reasoning \n",
    "\n",
    "Fairness definitions based on causal reasoning stem from a given causal graph: a directed, acyclic graphs with nodes representing attributes of an applicant and edges representing relationships between the attributes. Such a graph can help build a fair classifier as it  maps the relations between attributes and their influence on the outcome by a set of structural equations. These equations can further be used to estimate the effects of sensitive attributes and build algorithms that ensure a tolerable level of discrimination due to these attributes.\n",
    "\n",
    "Consider a graph consisting of the protected attribute $\\mathbf{S}$ (Gender), other non-protected attributes such credit amount,  credit history and employment length and finally a predicted outcome $\\mathbf{\\hat{Y}}$ (defaulter vs non-defaulter). In causal graphs, a *proxy* attribute is an attribute whose value can be used to derive a value of another attribute. In our example, we assume that employment length acts as a proxy attribute for G: one can derive the applicants’ gender from the length of their employment.\n",
    "\n",
    "<!-- A resolving attribute is an attribute in the causal graph that is influenced by the protected attribute in a non-discriminatory manner. In our example, the effect of G on the credit amount is non- discriminatory, which means that the differences in credit amount for different values of G are not considered as discrimination. Hence, the credit amount acts as a resolving attribute for G in this graph. -->\n",
    "\n",
    "**Counterfactual fairness**: A causal graph is counter-factually fair if the predicted outcome $\\mathbf{\\hat{Y}}$ in the graph does not depend on a descendant of the protected attribute $\\mathbf{S}$. In our example, the predictive outcome $\\mathbf{\\hat{Y}}$ of defaulter vs non-defaulter for a loan application is dependent on credit history, credit amount, and employment length. If employment length is a direct descendant of $\\mathbf{S}$, the given causal model is not counterfactually fair.\n",
    "\n",
    "To be fair, the protected attribute $\\mathbf{S}$ should not be a cause of $\\mathbf{\\hat{Y}}$ in any individual instance. That is changing $\\mathbf{S}$ while holding attributes which are not causally dependent on $\\mathbf{S}$ constant should not change the distribution of $\\mathbf{\\hat{Y}}$. $\\mathbf{\\hat{Y}}$ will be counterfactually\n",
    "fair if it is a function of the non-descendants of $\\mathbf{S}$.\n",
    "\n",
    "One way to remove these causal dependencies are through explicitly modelling all input variables as a linear combination of the protected class variables. By taking the residuals as a difference between actual and predicted input variables ($X-\\hat{X}$) we can effectively remove the correlation between the protected classes to the input variables. \n",
    "\n",
    "## Additive counterfactual fair model \n",
    "\n",
    "The implementation of a [**linear counterfactually fair**](https://arxiv.org/pdf/1703.06856.pdf) model uses the each of the protected class variable ($\\mathbf{S}$) to compute the residuals for each input variable ($\\mathbf{X}$) and then calculate the residuals as a difference between actual and predicted values ($\\mathbf{X}-\\hat{X}$) which is then used to learn a function that maps from inputs to the target variable ($\\mathbf{Y}$). \n",
    "\n",
    "ACF,within the framework of counterfactual fairness, is the idea that we model the correlations between  ${S}$  and features in  ${X}$  by training linear models to predict each feature  ${X_j}$  using  ${S}$  as input.\n",
    "\n",
    "Then, we can compute the residuals  ${ϵ_{ij}}$  between predicted and true feature values for each observation  ${i}$  and feature  ${j}$ . The final model is then trained on  ${ϵ_{ij}}$  as features to predict  ($\\mathbf{Y}$).\n",
    "\n",
    "\n",
    "$$\n",
    "\\begin{array}{c}\n",
    "{X_{1}=\\beta_{0}+\\beta_{1} S_{1}+\\beta_{2} S_{2}+\\cdots+\\beta_{n} S_{n}+\\epsilon_{1}} \\\\ {X_{n}=\\beta_{0}+\\beta_{1} S_{1}+\\beta_{2} S_{2}+\\cdots+\\beta_{n} S_{n}+\\epsilon_{n}} \\\\ {\\epsilon_{X1}={X_{1}}-\\hat{X_{1}}\\left(S_{1}, S_{2}, \\ldots, S_{n}\\right)} \\\\ {\\epsilon_{Xn}={X_{n}}-\\hat{X_{n}}\\left(S_{1}, S_{2}, \\ldots, S_{n}\\right)} \\\\ \n",
    "\\end{array}\n",
    "$$\n",
    "\n",
    "$$\n",
    "{Y=\\frac{e^{\\beta_{0}+\\beta_{1} \\epsilon_{X1}+\\cdots+\\beta_{n} \\epsilon_{Xn}}}{1+e^{\\beta_{0}+\\beta_{1} \\epsilon_{X1}+\\cdots+\\beta_{n} \\epsilon_{Xn}}}}\n",
    "$$"
   ]
  },
  {
   "cell_type": "markdown",
   "metadata": {},
   "source": [
    "<p class='lead'> Code Example using the LoanEE2 Dataset: </p>"
   ]
  },
  {
   "cell_type": "code",
   "execution_count": 1,
   "metadata": {},
   "outputs": [],
   "source": [
    "import numpy as np\n",
    "import pandas as pd\n",
    "import matplotlib.pyplot as plt\n",
    "import seaborn as sns\n",
    "\n",
    "from numpy import inf\n",
    "from scipy.stats import kurtosis, skew\n",
    "\n",
    "from sklearn.metrics import accuracy_score\n",
    "from sklearn.model_selection import train_test_split\n",
    "from sklearn.metrics import confusion_matrix\n",
    "from sklearn.metrics import classification_report\n",
    "from sklearn.metrics import roc_auc_score\n",
    "from sklearn import metrics\n",
    "from sklearn.linear_model import LogisticRegression\n",
    "from sklearn.linear_model import LinearRegression\n",
    "from sklearn.metrics import average_precision_score\n",
    "\n",
    "from fair_metrics import *\n",
    "import warnings\n",
    "warnings.filterwarnings('ignore')"
   ]
  },
  {
   "cell_type": "code",
   "execution_count": 2,
   "metadata": {},
   "outputs": [],
   "source": [
    "data = pd.read_csv('ProtectedFeaturesLoanEE2.csv')"
   ]
  },
  {
   "cell_type": "markdown",
   "metadata": {},
   "source": [
    "#### Select favourable and unfavourable outcome"
   ]
  },
  {
   "cell_type": "code",
   "execution_count": 3,
   "metadata": {},
   "outputs": [],
   "source": [
    "target='Default'\n",
    "\n",
    "fav=0\n",
    "unfav=int(not fav)"
   ]
  },
  {
   "cell_type": "markdown",
   "metadata": {},
   "source": [
    "#### Identify the protected groups and the respective advantageous and disadvantageous subsets"
   ]
  },
  {
   "cell_type": "code",
   "execution_count": 4,
   "metadata": {},
   "outputs": [],
   "source": [
    "Male='Gender' #Male/Female (originally work ex less than 10)\n",
    "Young='Age' #Young/Old\n",
    "National='Nationality' #Foreign/National\n",
    "Married='Married' \n",
    "Single='Single'\n",
    "Divorced='Divorced' \n",
    "Disabled='Disability' #(originally no of dep <3)"
   ]
  },
  {
   "cell_type": "code",
   "execution_count": 5,
   "metadata": {},
   "outputs": [],
   "source": [
    "protected_groups=[Male, Young, National, Married, Single, Divorced, Disabled]"
   ]
  },
  {
   "cell_type": "code",
   "execution_count": 6,
   "metadata": {},
   "outputs": [],
   "source": [
    "adv_groups = [{Male :1}, {Young :0}, {National :1}, {Married :0}, {Single :0}, {Divorced :1}, {Disabled :1}]\n",
    "disadv_groups = [{Male :0}, {Young :1}, {National :0}, {Married :1}, {Single :1}, {Divorced :0}, {Disabled :0}]"
   ]
  },
  {
   "cell_type": "code",
   "execution_count": 7,
   "metadata": {},
   "outputs": [],
   "source": [
    "SP=[]\n",
    "DI=[]\n",
    "Protected=[]\n",
    "for groupe in range(0, len(protected_groups)):\n",
    "    protected_group = list(adv_groups[groupe].keys())[0]\n",
    "    adv_protected_group_value = adv_groups[groupe][protected_group]\n",
    "    disadv_protected_group_value = disadv_groups[groupe][protected_group]\n",
    "    statistical_parity, disparate_impact = statistical_parity_test(data, protected_group,\n",
    "              adv_protected_group_value, disadv_protected_group_value, target, fav)\n",
    "    \n",
    "    SP.append(statistical_parity)\n",
    "    DI.append(disparate_impact)\n",
    "    Protected.append(protected_group)"
   ]
  },
  {
   "cell_type": "code",
   "execution_count": 8,
   "metadata": {},
   "outputs": [
    {
     "data": {
      "image/png": "[encoded data removed]",
      "text/plain": [
       "<Figure size 2160x720 with 2 Axes>"
      ]
     },
     "metadata": {
      "needs_background": "light"
     },
     "output_type": "display_data"
    }
   ],
   "source": [
    "d = pd.DataFrame({'Protected_feature':Protected,'Statistical_Parity':SP,'Disparate_Impact':DI})\n",
    "d['DI_normal']=d[\"Disparate_Impact\"].apply(lambda x: 1/x if x < 1 else x)\n",
    "d['SP_normal']=d[\"Statistical_Parity\"].apply(lambda x: abs(x) if x < 0 else x)\n",
    "\n",
    "fig = plt.figure() \n",
    "ax = fig.add_subplot(111) \n",
    "ax2 = ax.twinx() # Create another axes that shares the same x-axis as ax.\n",
    "\n",
    "fig.suptitle('Normalised Statistical Parity Difference and Disparate Impact for comparison', fontsize=40, y=1)\n",
    "\n",
    "width = 0.3\n",
    "ax.set_ylim(0, 0.25) \n",
    "ax2.set_ylim(0, 1.5) \n",
    "\n",
    "d.plot(x ='Protected_feature', y='SP_normal', kind = 'bar', ax=ax, width=width, \n",
    "       position=1, color='green', legend=False, figsize=(30,10), fontsize=20)\n",
    "d.plot(x ='Protected_feature', y='DI_normal', kind = 'bar', ax=ax2, width=width, \n",
    "       position=0, color='black', legend=False, figsize=(30,10), fontsize=20)\n",
    "\n",
    "ax.axhline(y=0.1, linestyle='dashed', linewidth=2, alpha=0.7, color='green')\n",
    "ax2.axhline(y=1.10, linestyle='dashed', linewidth=2, alpha=0.7, color='black')\n",
    "\n",
    "patches, labels = ax.get_legend_handles_labels()\n",
    "ax.legend(patches, ['Stat Parity Diff'], loc='upper left', fontsize=25)\n",
    "\n",
    "patches, labels = ax2.get_legend_handles_labels()\n",
    "ax2.legend(patches, ['Disparate Impact'], loc='upper right', fontsize=25)\n",
    "\n",
    "labels = [item.get_text() for item in ax.get_xticklabels()]\n",
    "\n",
    "labels[0] = 'Male'\n",
    "labels[1] = 'Young'\n",
    "labels[2] = 'National'\n",
    "labels[3] = 'Married'\n",
    "labels[4] = 'Single'\n",
    "labels[5] = 'Divorced'\n",
    "labels[6] = 'Disabled'\n",
    "\n",
    "ax.set_xticklabels(labels)\n",
    "ax.set_xlabel('Protected Groups', fontsize=25)\n",
    "ax.set_ylabel('Statistical Parity Difference', fontsize=25)\n",
    "ax2.set_ylabel('Disparate Impact', fontsize=25)\n",
    "\n",
    "plt.show()"
   ]
  },
  {
   "cell_type": "markdown",
   "metadata": {},
   "source": [
    "<div class=\"alert alert-block alert-warning\">\n",
    "<b>Remember:</b>\n",
    "    \n",
    "- Here the target variable is:\n",
    " - Default\n",
    "- The independent variables are:\n",
    " - Age\n",
    " - AppliedAmount\n",
    " - ExpectedLoss\n",
    " - LiabilitiesTotal\n",
    " - IncomeTotal\n",
    " - Interest\n",
    " - LoanDuration\n",
    " - MonthlyPayment\n",
    "- The sensitive variables are:\n",
    " - Male\n",
    " - Married\n",
    " - Single\n",
    " - Divorced\n",
    " - Disabled\n",
    "</div>"
   ]
  },
  {
   "cell_type": "markdown",
   "metadata": {},
   "source": [
    "#### Fill in missing values"
   ]
  },
  {
   "cell_type": "code",
   "execution_count": 9,
   "metadata": {},
   "outputs": [],
   "source": [
    "data['MonthlyPayment'].fillna((data['MonthlyPayment'].mean()), inplace=True)\n",
    "data['ExpectedLoss'].fillna((data['ExpectedLoss'].mean()), inplace=True)\n",
    "data['ProbabilityOfDefault'].fillna((data['ProbabilityOfDefault'].mean()), inplace=True)\n",
    "data['DebtToIncome'].fillna((data['DebtToIncome'].mean()), inplace=True)\n",
    "data['FreeCash'].fillna((data['FreeCash'].mean()), inplace=True)\n",
    "data['LossGivenDefault'].fillna(0, inplace=True)"
   ]
  },
  {
   "cell_type": "code",
   "execution_count": 10,
   "metadata": {},
   "outputs": [],
   "source": [
    "dataacf = data[['Default','Age', 'AppliedAmount', 'ExpectedLoss', 'LiabilitiesTotal', 'IncomeTotal', \n",
    "                'Interest', 'LoanDuration', 'MonthlyPayment', Male, Married, Single, Divorced, Disabled]]"
   ]
  },
  {
   "cell_type": "code",
   "execution_count": 11,
   "metadata": {},
   "outputs": [],
   "source": [
    "biased_protected_groups = [Male, Married, Single, Divorced, Disabled]"
   ]
  },
  {
   "cell_type": "code",
   "execution_count": 12,
   "metadata": {},
   "outputs": [],
   "source": [
    "choice = Male"
   ]
  },
  {
   "cell_type": "markdown",
   "metadata": {},
   "source": [
    "## Baseline model : Logistic Regression"
   ]
  },
  {
   "cell_type": "code",
   "execution_count": 13,
   "metadata": {},
   "outputs": [],
   "source": [
    "y=dataacf['Default']\n",
    "x=dataacf.drop(columns=['Default'])\n",
    "X_train, X_test, y_train, y_test = train_test_split(x, y, test_size=0.20, random_state=6666)"
   ]
  },
  {
   "cell_type": "code",
   "execution_count": 14,
   "metadata": {},
   "outputs": [],
   "source": [
    "log_reg = LogisticRegression(random_state=0, solver='liblinear',\n",
    "                              multi_class='ovr').fit(X_train, y_train)"
   ]
  },
  {
   "cell_type": "code",
   "execution_count": 15,
   "metadata": {},
   "outputs": [
    {
     "name": "stdout",
     "output_type": "stream",
     "text": [
      "Accuracy of the baseline model: 0.7746432939258051\n"
     ]
    }
   ],
   "source": [
    "y_pred=log_reg.predict(X_test)\n",
    "y_pred_prob=log_reg.predict_proba(X_test)[:,0]\n",
    "print(\"Accuracy of the baseline model:\", log_reg.score(X_test, y_test))"
   ]
  },
  {
   "cell_type": "code",
   "execution_count": 16,
   "metadata": {},
   "outputs": [
    {
     "name": "stdout",
     "output_type": "stream",
     "text": [
      "Accuracy difference between two groups: 7.646828821054896 %\n"
     ]
    }
   ],
   "source": [
    "A_full=log_reg.score(X_test[X_test[choice]==0], y_test[X_test[choice]==0]) \n",
    "B_full=log_reg.score(X_test[X_test[choice]==1], y_test[X_test[choice]==1]) \n",
    "print(\"Accuracy difference between two groups:\", abs(B_full-A_full)*100, \"%\")"
   ]
  },
  {
   "cell_type": "markdown",
   "metadata": {},
   "source": [
    "## Additive counterfactual fair model by hand\n"
   ]
  },
  {
   "cell_type": "code",
   "execution_count": 17,
   "metadata": {},
   "outputs": [],
   "source": [
    "y=dataacf['Default']\n",
    "x=dataacf.drop(columns=['Default'])\n",
    "X_train, X_test, y_train, y_test = train_test_split(x, y, test_size=0.20, random_state=6666)"
   ]
  },
  {
   "cell_type": "code",
   "execution_count": 18,
   "metadata": {},
   "outputs": [],
   "source": [
    "sens=X_train[biased_protected_groups]"
   ]
  },
  {
   "cell_type": "markdown",
   "metadata": {},
   "source": [
    "#### Regressing each independant variable with sensitive variable"
   ]
  },
  {
   "cell_type": "code",
   "execution_count": 19,
   "metadata": {},
   "outputs": [],
   "source": [
    "acf_age = LinearRegression().fit(sens, X_train['Age'])\n",
    "acf_AppliedAmount = LinearRegression().fit(sens, X_train['AppliedAmount'])\n",
    "acf_ExpectedLoss = LinearRegression().fit(sens, X_train['ExpectedLoss'])\n",
    "acf_LiabilitiesTotal = LinearRegression().fit(sens, X_train['LiabilitiesTotal'])\n",
    "acf_IncomeTotal = LinearRegression().fit(sens, X_train['IncomeTotal'])\n",
    "acf_Interest = LinearRegression().fit(sens, X_train['Interest'])\n",
    "acf_LoanDuration = LinearRegression().fit(sens, X_train['LoanDuration'])\n",
    "acf_MonthlyPayment = LinearRegression().fit(sens, X_train['MonthlyPayment'])"
   ]
  },
  {
   "cell_type": "markdown",
   "metadata": {},
   "source": [
    "#### Calculate the residuals for each model"
   ]
  },
  {
   "cell_type": "code",
   "execution_count": 20,
   "metadata": {},
   "outputs": [],
   "source": [
    "ageR = X_train['Age'] - acf_age.predict(sens)\n",
    "AppliedAmountR = X_train['AppliedAmount'] - acf_AppliedAmount.predict(sens)\n",
    "ExpectedLossR = X_train['ExpectedLoss'] - acf_ExpectedLoss.predict(sens)\n",
    "LiabilitiesTotalR = X_train['LiabilitiesTotal'] - acf_LiabilitiesTotal.predict(sens)\n",
    "IncomeTotalR = X_train['IncomeTotal'] - acf_IncomeTotal.predict(sens)\n",
    "InterestR = X_train['Interest'] - acf_Interest.predict(sens)\n",
    "LoanDurationR = X_train['LoanDuration'] - acf_LoanDuration.predict(sens)\n",
    "MonthlyPaymentR = X_train['MonthlyPayment'] - acf_MonthlyPayment.predict(sens)"
   ]
  },
  {
   "cell_type": "code",
   "execution_count": 21,
   "metadata": {},
   "outputs": [],
   "source": [
    "df_R=pd.DataFrame({'ageR':ageR, 'AppliedAmountR':AppliedAmountR, 'ExpectedLossR':ExpectedLossR, \n",
    "                   'LiabilitiesTotalR':LiabilitiesTotalR,\n",
    "                'IncomeTotalR':IncomeTotalR, 'InterestR':InterestR, 'LoanDurationR':LoanDurationR,\n",
    "                   'MonthlyPaymentR':MonthlyPaymentR})"
   ]
  },
  {
   "cell_type": "code",
   "execution_count": 22,
   "metadata": {},
   "outputs": [
    {
     "data": {
      "text/html": [
       "<div>\n",
       "<style scoped>\n",
       "    .dataframe tbody tr th:only-of-type {\n",
       "        vertical-align: middle;\n",
       "    }\n",
       "\n",
       "    .dataframe tbody tr th {\n",
       "        vertical-align: top;\n",
       "    }\n",
       "\n",
       "    .dataframe thead th {\n",
       "        text-align: right;\n",
       "    }\n",
       "</style>\n",
       "<table border=\"1\" class=\"dataframe\">\n",
       "  <thead>\n",
       "    <tr style=\"text-align: right;\">\n",
       "      <th></th>\n",
       "      <th>ageR</th>\n",
       "      <th>AppliedAmountR</th>\n",
       "      <th>ExpectedLossR</th>\n",
       "      <th>LiabilitiesTotalR</th>\n",
       "      <th>IncomeTotalR</th>\n",
       "      <th>InterestR</th>\n",
       "      <th>LoanDurationR</th>\n",
       "      <th>MonthlyPaymentR</th>\n",
       "    </tr>\n",
       "  </thead>\n",
       "  <tbody>\n",
       "    <tr>\n",
       "      <th>38757</th>\n",
       "      <td>-0.321170</td>\n",
       "      <td>-1068.321959</td>\n",
       "      <td>0.005515</td>\n",
       "      <td>-333.155688</td>\n",
       "      <td>-836.347136</td>\n",
       "      <td>0.507569</td>\n",
       "      <td>-3.188312</td>\n",
       "      <td>-30.807247</td>\n",
       "    </tr>\n",
       "    <tr>\n",
       "      <th>19905</th>\n",
       "      <td>-0.396304</td>\n",
       "      <td>-1385.505095</td>\n",
       "      <td>-0.064279</td>\n",
       "      <td>-97.595945</td>\n",
       "      <td>-460.928661</td>\n",
       "      <td>-12.422890</td>\n",
       "      <td>14.053032</td>\n",
       "      <td>-63.505812</td>\n",
       "    </tr>\n",
       "    <tr>\n",
       "      <th>24584</th>\n",
       "      <td>0.603696</td>\n",
       "      <td>-110.505095</td>\n",
       "      <td>-0.040479</td>\n",
       "      <td>65.604055</td>\n",
       "      <td>511.071339</td>\n",
       "      <td>-8.132890</td>\n",
       "      <td>14.053032</td>\n",
       "      <td>-27.085812</td>\n",
       "    </tr>\n",
       "    <tr>\n",
       "      <th>8420</th>\n",
       "      <td>0.678830</td>\n",
       "      <td>-1658.321959</td>\n",
       "      <td>0.072676</td>\n",
       "      <td>1176.844312</td>\n",
       "      <td>907.652864</td>\n",
       "      <td>8.597569</td>\n",
       "      <td>-36.188312</td>\n",
       "      <td>-9.748320</td>\n",
       "    </tr>\n",
       "    <tr>\n",
       "      <th>4015</th>\n",
       "      <td>0.207263</td>\n",
       "      <td>614.721028</td>\n",
       "      <td>-0.065619</td>\n",
       "      <td>-378.915280</td>\n",
       "      <td>-1358.049074</td>\n",
       "      <td>0.836386</td>\n",
       "      <td>-2.754943</td>\n",
       "      <td>-3.655850</td>\n",
       "    </tr>\n",
       "    <tr>\n",
       "      <th>...</th>\n",
       "      <td>...</td>\n",
       "      <td>...</td>\n",
       "      <td>...</td>\n",
       "      <td>...</td>\n",
       "      <td>...</td>\n",
       "      <td>...</td>\n",
       "      <td>...</td>\n",
       "      <td>...</td>\n",
       "    </tr>\n",
       "    <tr>\n",
       "      <th>2150</th>\n",
       "      <td>-0.321170</td>\n",
       "      <td>-2338.763759</td>\n",
       "      <td>-0.008035</td>\n",
       "      <td>-693.155688</td>\n",
       "      <td>9463.652864</td>\n",
       "      <td>4.597569</td>\n",
       "      <td>-27.188312</td>\n",
       "      <td>-9.748320</td>\n",
       "    </tr>\n",
       "    <tr>\n",
       "      <th>53913</th>\n",
       "      <td>0.603696</td>\n",
       "      <td>-1705.505095</td>\n",
       "      <td>0.000421</td>\n",
       "      <td>8.554055</td>\n",
       "      <td>-648.928661</td>\n",
       "      <td>3.097110</td>\n",
       "      <td>-9.946968</td>\n",
       "      <td>-61.505812</td>\n",
       "    </tr>\n",
       "    <tr>\n",
       "      <th>10335</th>\n",
       "      <td>0.829799</td>\n",
       "      <td>-2423.979577</td>\n",
       "      <td>0.001478</td>\n",
       "      <td>-242.128604</td>\n",
       "      <td>-1495.001221</td>\n",
       "      <td>0.899610</td>\n",
       "      <td>19.927358</td>\n",
       "      <td>-91.410417</td>\n",
       "    </tr>\n",
       "    <tr>\n",
       "      <th>36625</th>\n",
       "      <td>-0.396304</td>\n",
       "      <td>2544.494905</td>\n",
       "      <td>0.028222</td>\n",
       "      <td>-302.785945</td>\n",
       "      <td>-710.928661</td>\n",
       "      <td>7.677110</td>\n",
       "      <td>-9.946968</td>\n",
       "      <td>136.204188</td>\n",
       "    </tr>\n",
       "    <tr>\n",
       "      <th>12209</th>\n",
       "      <td>0.144151</td>\n",
       "      <td>3508.922654</td>\n",
       "      <td>-0.099239</td>\n",
       "      <td>-75.607764</td>\n",
       "      <td>-662.260342</td>\n",
       "      <td>-10.840899</td>\n",
       "      <td>21.219737</td>\n",
       "      <td>66.275601</td>\n",
       "    </tr>\n",
       "  </tbody>\n",
       "</table>\n",
       "<p>49056 rows × 8 columns</p>\n",
       "</div>"
      ],
      "text/plain": [
       "           ageR  AppliedAmountR  ExpectedLossR  LiabilitiesTotalR  \\\n",
       "38757 -0.321170    -1068.321959       0.005515        -333.155688   \n",
       "19905 -0.396304    -1385.505095      -0.064279         -97.595945   \n",
       "24584  0.603696     -110.505095      -0.040479          65.604055   \n",
       "8420   0.678830    -1658.321959       0.072676        1176.844312   \n",
       "4015   0.207263      614.721028      -0.065619        -378.915280   \n",
       "...         ...             ...            ...                ...   \n",
       "2150  -0.321170    -2338.763759      -0.008035        -693.155688   \n",
       "53913  0.603696    -1705.505095       0.000421           8.554055   \n",
       "10335  0.829799    -2423.979577       0.001478        -242.128604   \n",
       "36625 -0.396304     2544.494905       0.028222        -302.785945   \n",
       "12209  0.144151     3508.922654      -0.099239         -75.607764   \n",
       "\n",
       "       IncomeTotalR  InterestR  LoanDurationR  MonthlyPaymentR  \n",
       "38757   -836.347136   0.507569      -3.188312       -30.807247  \n",
       "19905   -460.928661 -12.422890      14.053032       -63.505812  \n",
       "24584    511.071339  -8.132890      14.053032       -27.085812  \n",
       "8420     907.652864   8.597569     -36.188312        -9.748320  \n",
       "4015   -1358.049074   0.836386      -2.754943        -3.655850  \n",
       "...             ...        ...            ...              ...  \n",
       "2150    9463.652864   4.597569     -27.188312        -9.748320  \n",
       "53913   -648.928661   3.097110      -9.946968       -61.505812  \n",
       "10335  -1495.001221   0.899610      19.927358       -91.410417  \n",
       "36625   -710.928661   7.677110      -9.946968       136.204188  \n",
       "12209   -662.260342 -10.840899      21.219737        66.275601  \n",
       "\n",
       "[49056 rows x 8 columns]"
      ]
     },
     "execution_count": 22,
     "metadata": {},
     "output_type": "execute_result"
    }
   ],
   "source": [
    "df_R"
   ]
  },
  {
   "cell_type": "markdown",
   "metadata": {},
   "source": [
    "#### Fitting residuals to the dependent (target) variable"
   ]
  },
  {
   "cell_type": "code",
   "execution_count": 23,
   "metadata": {},
   "outputs": [],
   "source": [
    "fair = LogisticRegression(random_state=0, solver='liblinear',\n",
    "                              multi_class='ovr').fit(df_R, y_train)"
   ]
  },
  {
   "cell_type": "markdown",
   "metadata": {},
   "source": [
    "#### Calculate residuals for the test data"
   ]
  },
  {
   "cell_type": "code",
   "execution_count": 24,
   "metadata": {},
   "outputs": [],
   "source": [
    "sens=X_test[biased_protected_groups]"
   ]
  },
  {
   "cell_type": "code",
   "execution_count": 25,
   "metadata": {},
   "outputs": [],
   "source": [
    "ageR = X_test['Age'] - acf_age.predict(sens)\n",
    "AppliedAmountR = X_test['AppliedAmount'] - acf_AppliedAmount.predict(sens)\n",
    "ExpectedLossR = X_test['ExpectedLoss'] - acf_ExpectedLoss.predict(sens)\n",
    "LiabilitiesTotalR = X_test['LiabilitiesTotal'] - acf_LiabilitiesTotal.predict(sens)\n",
    "IncomeTotalR = X_test['IncomeTotal'] - acf_IncomeTotal.predict(sens)\n",
    "InterestR = X_test['Interest'] - acf_Interest.predict(sens)\n",
    "LoanDurationR = X_test['LoanDuration'] - acf_LoanDuration.predict(sens)\n",
    "MonthlyPaymentR = X_test['MonthlyPayment'] - acf_MonthlyPayment.predict(sens)"
   ]
  },
  {
   "cell_type": "code",
   "execution_count": 26,
   "metadata": {},
   "outputs": [],
   "source": [
    "df_R_test=pd.DataFrame({'ageR':ageR, 'AppliedAmountR':AppliedAmountR, 'ExpectedLossR':ExpectedLossR, \n",
    "                        'LiabilitiesTotalR':LiabilitiesTotalR,\n",
    "                'IncomeTotalR':IncomeTotalR, 'InterestR':InterestR, 'LoanDurationR':LoanDurationR,\n",
    "                   'MonthlyPaymentR':MonthlyPaymentR})"
   ]
  },
  {
   "cell_type": "code",
   "execution_count": 27,
   "metadata": {},
   "outputs": [],
   "source": [
    "y_pred_fair = fair.predict(df_R_test)\n",
    "y_pred_prob_fair = fair.predict_proba(df_R_test)"
   ]
  },
  {
   "cell_type": "code",
   "execution_count": 28,
   "metadata": {},
   "outputs": [
    {
     "name": "stdout",
     "output_type": "stream",
     "text": [
      "Accuracy of the fair model: 0.7666530778638402\n"
     ]
    }
   ],
   "source": [
    "print(\"Accuracy of the fair model:\", fair.score(df_R_test, y_test))"
   ]
  },
  {
   "cell_type": "code",
   "execution_count": 29,
   "metadata": {},
   "outputs": [
    {
     "name": "stdout",
     "output_type": "stream",
     "text": [
      "Accuracy difference between two groups: 26.13593463488296 %\n"
     ]
    }
   ],
   "source": [
    "A_full=fair.score(df_R_test[sens[choice]==0], y_test[sens[choice]==0]) \n",
    "B_full=fair.score(df_R_test[sens[choice]==1], y_test[sens[choice]==1]) \n",
    "print(\"Accuracy difference between two groups:\", abs(B_full-A_full)*100, \"%\")"
   ]
  },
  {
   "cell_type": "code",
   "execution_count": 30,
   "metadata": {},
   "outputs": [
    {
     "data": {
      "text/plain": [
       "[('Equal Opps', 0.011220915330504289),\n",
       " ('PredEq', 0.002568218298555377),\n",
       " ('Equal Odds', 0.008652697031948993),\n",
       " ('PredParity', 0.34782608695652173),\n",
       " ('DemoParity', 0.008039181318088662),\n",
       " ('AOD', 0.004326348515974497),\n",
       " ('TEq', inf)]"
      ]
     },
     "execution_count": 30,
     "metadata": {},
     "output_type": "execute_result"
    }
   ],
   "source": [
    "tn_disadv, fp_disadv, fn_disadv, tp_disadv = confusion_matrix(y_test[sens[choice]==0], y_pred_fair[sens[choice]==0]).ravel()\n",
    "tn_adv, fp_adv, fn_adv, tp_adv = confusion_matrix(y_test[sens[choice]==1], y_pred_fair[sens[choice]==1]).ravel()\n",
    "\n",
    "acf_metrics = acf_fair_metrics(tn_disadv, fp_disadv, fn_disadv, tp_disadv, tn_adv, fp_adv, fn_adv, tp_adv)\n",
    "acf_metrics"
   ]
  },
  {
   "cell_type": "markdown",
   "metadata": {},
   "source": [
    "## Additive Counterfactual Model using the class"
   ]
  },
  {
   "cell_type": "code",
   "execution_count": 31,
   "metadata": {},
   "outputs": [],
   "source": [
    "independent_vars = ['Age', 'AppliedAmount', 'ExpectedLoss', 'LiabilitiesTotal', 'IncomeTotal', \n",
    "                    'Interest', 'LoanDuration', 'MonthlyPayment']\n",
    "biased_protected_groups = [Male,Married,Single,Divorced,Disabled]\n",
    "\n",
    "sens_train = X_train[biased_protected_groups]\n",
    "sens_test = X_test[biased_protected_groups]"
   ]
  },
  {
   "cell_type": "code",
   "execution_count": 32,
   "metadata": {},
   "outputs": [],
   "source": [
    "import ACF as acf_class\n",
    "\n",
    "acf = acf_class.ACF(X_train, X_test, y_train, y_test, sens_train, sens_test, \n",
    "                    independent_vars)\n",
    "\n",
    "main_model = LogisticRegression(random_state=0, \n",
    "                                solver='liblinear', \n",
    "                                multi_class='ovr')\n",
    "\n",
    "acf_model = acf.fit(main_model)"
   ]
  },
  {
   "cell_type": "code",
   "execution_count": 33,
   "metadata": {},
   "outputs": [],
   "source": [
    "y_pred_fair_class = acf.predict()"
   ]
  },
  {
   "cell_type": "code",
   "execution_count": 34,
   "metadata": {},
   "outputs": [],
   "source": [
    "y_pred_prob_class = acf.predict_proba()"
   ]
  },
  {
   "cell_type": "code",
   "execution_count": 35,
   "metadata": {},
   "outputs": [
    {
     "name": "stdout",
     "output_type": "stream",
     "text": [
      "Accuracy of additive counterfactual fair model: 0.7666530778638402\n"
     ]
    },
    {
     "data": {
      "text/plain": [
       "0.7666530778638402"
      ]
     },
     "execution_count": 35,
     "metadata": {},
     "output_type": "execute_result"
    }
   ],
   "source": [
    "acf.score()"
   ]
  },
  {
   "cell_type": "markdown",
   "metadata": {},
   "source": [
    "## Model Fairness Metrics"
   ]
  },
  {
   "cell_type": "code",
   "execution_count": 36,
   "metadata": {},
   "outputs": [],
   "source": [
    "tn_disadv, fp_disadv, fn_disadv, tp_disadv = acf.confusion_mat(choice, 0)\n",
    "tn_adv, fp_adv, fn_adv, tp_adv = acf.confusion_mat(choice, 1)"
   ]
  },
  {
   "cell_type": "code",
   "execution_count": 37,
   "metadata": {},
   "outputs": [
    {
     "data": {
      "text/plain": [
       "[('Equal Opps', 0.011220915330504289),\n",
       " ('PredEq', 0.002568218298555377),\n",
       " ('Equal Odds', 0.008652697031948993),\n",
       " ('PredParity', 0.34782608695652173),\n",
       " ('DemoParity', 0.008039181318088662),\n",
       " ('AOD', 0.004326348515974497),\n",
       " ('TEq', inf)]"
      ]
     },
     "execution_count": 37,
     "metadata": {},
     "output_type": "execute_result"
    }
   ],
   "source": [
    "acf_metrics = acf_fair_metrics(tn_disadv, fp_disadv, fn_disadv, tp_disadv, tn_adv, fp_adv, fn_adv, tp_adv)\n",
    "acf_metrics"
   ]
  },
  {
   "cell_type": "code",
   "execution_count": 38,
   "metadata": {},
   "outputs": [
    {
     "data": {
      "text/plain": [
       "[('AUC', 0.09023602063466621),\n",
       " ('Avg PrecScore', 0.19863854302480735),\n",
       " ('Equal Opps', 0.48885028337083125),\n",
       " ('PredEq', 0.1930087390761548),\n",
       " ('Equal Odds', 0.681859022446986),\n",
       " ('PredParity', 0.16129032258064513),\n",
       " ('DemoParity', 0.3712618649552367),\n",
       " ('AOD', 0.340929511223493),\n",
       " ('TEq', 7.293956043956044)]"
      ]
     },
     "execution_count": 38,
     "metadata": {},
     "output_type": "execute_result"
    }
   ],
   "source": [
    "logistic_reg_fair_metrics = fair_metrics(y_test, y_pred_prob, y_pred, X_test, choice, 1, 0)\n",
    "logistic_reg_fair_metrics"
   ]
  },
  {
   "cell_type": "code",
   "execution_count": 39,
   "metadata": {},
   "outputs": [
    {
     "data": {
      "text/html": [
       "<div>\n",
       "<style scoped>\n",
       "    .dataframe tbody tr th:only-of-type {\n",
       "        vertical-align: middle;\n",
       "    }\n",
       "\n",
       "    .dataframe tbody tr th {\n",
       "        vertical-align: top;\n",
       "    }\n",
       "\n",
       "    .dataframe thead th {\n",
       "        text-align: right;\n",
       "    }\n",
       "</style>\n",
       "<table border=\"1\" class=\"dataframe\">\n",
       "  <thead>\n",
       "    <tr style=\"text-align: right;\">\n",
       "      <th></th>\n",
       "      <th>Metrics</th>\n",
       "      <th>Baseline Model</th>\n",
       "      <th>ACF Fair Model</th>\n",
       "    </tr>\n",
       "  </thead>\n",
       "  <tbody>\n",
       "    <tr>\n",
       "      <th>0</th>\n",
       "      <td>Equal Opps</td>\n",
       "      <td>0.488850</td>\n",
       "      <td>0.011221</td>\n",
       "    </tr>\n",
       "    <tr>\n",
       "      <th>1</th>\n",
       "      <td>PredEq</td>\n",
       "      <td>0.193009</td>\n",
       "      <td>0.002568</td>\n",
       "    </tr>\n",
       "    <tr>\n",
       "      <th>2</th>\n",
       "      <td>Equal Odds</td>\n",
       "      <td>0.681859</td>\n",
       "      <td>0.008653</td>\n",
       "    </tr>\n",
       "    <tr>\n",
       "      <th>3</th>\n",
       "      <td>PredParity</td>\n",
       "      <td>0.161290</td>\n",
       "      <td>0.347826</td>\n",
       "    </tr>\n",
       "    <tr>\n",
       "      <th>4</th>\n",
       "      <td>DemoParity</td>\n",
       "      <td>0.371262</td>\n",
       "      <td>0.008039</td>\n",
       "    </tr>\n",
       "    <tr>\n",
       "      <th>5</th>\n",
       "      <td>AOD</td>\n",
       "      <td>0.340930</td>\n",
       "      <td>0.004326</td>\n",
       "    </tr>\n",
       "  </tbody>\n",
       "</table>\n",
       "</div>"
      ],
      "text/plain": [
       "      Metrics  Baseline Model  ACF Fair Model\n",
       "0  Equal Opps        0.488850        0.011221\n",
       "1      PredEq        0.193009        0.002568\n",
       "2  Equal Odds        0.681859        0.008653\n",
       "3  PredParity        0.161290        0.347826\n",
       "4  DemoParity        0.371262        0.008039\n",
       "5         AOD        0.340930        0.004326"
      ]
     },
     "execution_count": 39,
     "metadata": {},
     "output_type": "execute_result"
    }
   ],
   "source": [
    "labels, log_reg_model = zip(*logistic_reg_fair_metrics)\n",
    "headers, acf_model = zip(*acf_metrics)\n",
    "ACF={'Metrics':headers[0:6], \n",
    "             'Baseline Model':list(log_reg_model[2:8]), 'ACF Fair Model':list(acf_model[0:6])}\n",
    "ACF_table=pd.DataFrame.from_dict(ACF)\n",
    "ACF_table"
   ]
  },
  {
   "cell_type": "code",
   "execution_count": 40,
   "metadata": {},
   "outputs": [
    {
     "data": {
      "image/png": "[encoded data removed]",
      "text/plain": [
       "<Figure size 720x360 with 1 Axes>"
      ]
     },
     "metadata": {
      "needs_background": "light"
     },
     "output_type": "display_data"
    }
   ],
   "source": [
    "ax = ACF_table.plot.bar(x='Metrics', rot=90, width = 0.7, color=['black', 'green'], figsize=(10,5), fontsize=12)\n",
    "plt.suptitle('Absolute difference in various fairness metrics for {}: Baseline vs ACF model'.format(choice),  \n",
    "             fontsize=15, y=1)\n",
    "\n",
    "patches, labels = ax.get_legend_handles_labels()\n",
    "ax.legend(patches, labels, loc='upper right', fontsize=12)\n",
    "\n",
    "ax.set_xlabel('Fairness Metrics', fontsize=15)\n",
    "plt.show()"
   ]
  },
  {
   "cell_type": "code",
   "execution_count": 41,
   "metadata": {
    "scrolled": false
   },
   "outputs": [
    {
     "data": {
      "image/png": "[encoded data removed]",
      "text/plain": [
       "<Figure size 504x360 with 1 Axes>"
      ]
     },
     "metadata": {
      "needs_background": "light"
     },
     "output_type": "display_data"
    },
    {
     "data": {
      "image/png": "[encoded data removed]",
      "text/plain": [
       "<Figure size 504x360 with 1 Axes>"
      ]
     },
     "metadata": {
      "needs_background": "light"
     },
     "output_type": "display_data"
    },
    {
     "data": {
      "image/png": "[encoded data removed]",
      "text/plain": [
       "<Figure size 504x360 with 1 Axes>"
      ]
     },
     "metadata": {
      "needs_background": "light"
     },
     "output_type": "display_data"
    },
    {
     "data": {
      "image/png": "[encoded data removed]",
      "text/plain": [
       "<Figure size 504x360 with 1 Axes>"
      ]
     },
     "metadata": {
      "needs_background": "light"
     },
     "output_type": "display_data"
    },
    {
     "data": {
      "image/png": "[encoded data removed]",
      "text/plain": [
       "<Figure size 504x360 with 1 Axes>"
      ]
     },
     "metadata": {
      "needs_background": "light"
     },
     "output_type": "display_data"
    }
   ],
   "source": [
    "for groupe in range(0, len(biased_protected_groups)):\n",
    "    choice = biased_protected_groups[groupe]\n",
    "    protected_group = list(adv_groups[groupe].keys())[0]\n",
    "    adv_protected_group_value = adv_groups[groupe][protected_group]\n",
    "    disadv_protected_group_value = disadv_groups[groupe][protected_group]\n",
    "    \n",
    "    tn_disadv, fp_disadv, fn_disadv, tp_disadv = acf.confusion_mat(choice, disadv_protected_group_value)\n",
    "    tn_adv, fp_adv, fn_adv, tp_adv = acf.confusion_mat(choice, adv_protected_group_value)\n",
    "    \n",
    "    acf_metrics = acf_fair_metrics(tn_disadv, fp_disadv, fn_disadv, tp_disadv, tn_adv, fp_adv, fn_adv, tp_adv)\n",
    "    logistic_reg_fair_metrics = fair_metrics(y_test, y_pred_prob, y_pred, X_test, choice, adv_protected_group_value, disadv_protected_group_value)\n",
    "    \n",
    "    labels, log_reg_model = zip(*logistic_reg_fair_metrics)\n",
    "    headers, acf_model = zip(*acf_metrics)\n",
    "    ACF={'Fairness Metrics':headers[0:6], \n",
    "             'Baseline Model':list(log_reg_model[2:8]), 'ACF Fair Model':list(acf_model[0:6])}\n",
    "    ACF_table=pd.DataFrame.from_dict(ACF) \n",
    "    \n",
    "    ax = ACF_table.plot.bar(x='Fairness Metrics', rot=90, width = 0.7, color=['black', 'green'], figsize=(7,5), fontsize=12)\n",
    "    plt.title(choice, fontsize=16)\n",
    "plt.show()"
   ]
  },
  {
   "cell_type": "markdown",
   "metadata": {},
   "source": [
    "## Model performance metrics "
   ]
  },
  {
   "cell_type": "code",
   "execution_count": 42,
   "metadata": {},
   "outputs": [
    {
     "data": {
      "text/html": [
       "<div>\n",
       "<style scoped>\n",
       "    .dataframe tbody tr th:only-of-type {\n",
       "        vertical-align: middle;\n",
       "    }\n",
       "\n",
       "    .dataframe tbody tr th {\n",
       "        vertical-align: top;\n",
       "    }\n",
       "\n",
       "    .dataframe thead th {\n",
       "        text-align: right;\n",
       "    }\n",
       "</style>\n",
       "<table border=\"1\" class=\"dataframe\">\n",
       "  <thead>\n",
       "    <tr style=\"text-align: right;\">\n",
       "      <th></th>\n",
       "      <th>Metrics</th>\n",
       "      <th>Baseline</th>\n",
       "      <th>ACF</th>\n",
       "    </tr>\n",
       "  </thead>\n",
       "  <tbody>\n",
       "    <tr>\n",
       "      <th>0</th>\n",
       "      <td>AUC</td>\n",
       "      <td>0.311827</td>\n",
       "      <td>0.391476</td>\n",
       "    </tr>\n",
       "    <tr>\n",
       "      <th>1</th>\n",
       "      <td>Gini</td>\n",
       "      <td>-0.376346</td>\n",
       "      <td>-0.217047</td>\n",
       "    </tr>\n",
       "    <tr>\n",
       "      <th>2</th>\n",
       "      <td>Avg Precision Score</td>\n",
       "      <td>0.284200</td>\n",
       "      <td>0.241872</td>\n",
       "    </tr>\n",
       "    <tr>\n",
       "      <th>3</th>\n",
       "      <td>Precision</td>\n",
       "      <td>0.587977</td>\n",
       "      <td>0.657143</td>\n",
       "    </tr>\n",
       "    <tr>\n",
       "      <th>4</th>\n",
       "      <td>Sensitivity</td>\n",
       "      <td>0.139043</td>\n",
       "      <td>0.015950</td>\n",
       "    </tr>\n",
       "    <tr>\n",
       "      <th>5</th>\n",
       "      <td>False Negative Rate</td>\n",
       "      <td>0.860957</td>\n",
       "      <td>0.984050</td>\n",
       "    </tr>\n",
       "    <tr>\n",
       "      <th>6</th>\n",
       "      <td>F1 Score</td>\n",
       "      <td>0.224902</td>\n",
       "      <td>0.031144</td>\n",
       "    </tr>\n",
       "  </tbody>\n",
       "</table>\n",
       "</div>"
      ],
      "text/plain": [
       "               Metrics  Baseline       ACF\n",
       "0                  AUC  0.311827  0.391476\n",
       "1                 Gini -0.376346 -0.217047\n",
       "2  Avg Precision Score  0.284200  0.241872\n",
       "3            Precision  0.587977  0.657143\n",
       "4          Sensitivity  0.139043  0.015950\n",
       "5  False Negative Rate  0.860957  0.984050\n",
       "6             F1 Score  0.224902  0.031144"
      ]
     },
     "execution_count": 42,
     "metadata": {},
     "output_type": "execute_result"
    }
   ],
   "source": [
    "model_perf=[accuracy_metrics(y_test, y_pred_prob, y_pred_prob_class, \n",
    "                          y_pred, y_pred_fair_class, X_test)]\n",
    "\n",
    "headers=[\"AUC\", \"Gini\", \"Avg Precision Score\", \"Precision\", \"Sensitivity\", \"False Negative Rate\", \n",
    "         \"F1 Score\"]\n",
    "\n",
    "B = list(model_perf[0])[:len(list(model_perf[0]))//2]\n",
    "C = list(model_perf[0])[len(list(model_perf[0]))//2:]\n",
    "\n",
    "\n",
    "model_table={'Metrics':headers, \n",
    "             'Baseline':B, 'ACF':C}\n",
    "\n",
    "model_table_df=pd.DataFrame.from_dict(model_table)\n",
    "model_table_df"
   ]
  },
  {
   "cell_type": "code",
   "execution_count": 43,
   "metadata": {},
   "outputs": [
    {
     "data": {
      "image/png": "[encoded data removed]",
      "text/plain": [
       "<Figure size 720x360 with 1 Axes>"
      ]
     },
     "metadata": {
      "needs_background": "light"
     },
     "output_type": "display_data"
    }
   ],
   "source": [
    "ax = model_table_df.iloc[:,:].plot.bar(x='Metrics', rot=90, width = 0.7, \n",
    "                                                       color=['green', 'black'], figsize=(10,5), fontsize=12)\n",
    "plt.suptitle('Before and after reweighing the protected feature: {}'.format(choice),  fontsize=16, y=1)\n",
    "\n",
    "\n",
    "\n",
    "patches, labels = ax.get_legend_handles_labels()\n",
    "ax.legend(patches, labels, loc='upper right', fontsize=12)\n",
    "\n",
    "ax.set_xlabel('Accuracy metrics', fontsize=15)\n",
    "\n",
    "plt.show()"
   ]
  }
 ],
 "metadata": {
  "kernelspec": {
   "display_name": "Python 3",
   "language": "python",
   "name": "python3"
  },
  "language_info": {
   "codemirror_mode": {
    "name": "ipython",
    "version": 3
   },
   "file_extension": ".py",
   "mimetype": "text/x-python",
   "name": "python",
   "nbconvert_exporter": "python",
   "pygments_lexer": "ipython3",
   "version": "3.8.5"
  }
 },
 "nbformat": 4,
 "nbformat_minor": 4
}
